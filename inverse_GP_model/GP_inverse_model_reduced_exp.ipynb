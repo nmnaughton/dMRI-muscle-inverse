{
 "cells": [
  {
   "cell_type": "code",
   "execution_count": 2,
   "metadata": {},
   "outputs": [],
   "source": [
    "\"\"\"\n",
    "Load reduced aquisition Gaussian processes inverse models and \n",
    "evaluate on experimental MRI data. \n",
    "\n",
    "Note: full models require approx 200 Gb of RAM for each model. \n",
    "\n",
    "Created by N Naughton on August 4, 2019\n",
    "\"\"\"\n",
    "\n",
    "import numpy as np\n",
    "import pandas as pd\n",
    "import matplotlib.pyplot as plt\n",
    "import math\n",
    "import pickle\n",
    "import chaospy as cp\n",
    "from SALib.sample import saltelli\n",
    "from SALib.analyze import sobol\n",
    "        \n",
    "problem = {\n",
    "            'num_vars': 7,\n",
    "    \n",
    "            'names': ['diameter', \n",
    "                      'packing', \n",
    "                      'perm', \n",
    "                      'Din', \n",
    "                      'Dex', \n",
    "                      'b-value',\n",
    "                      'diff_time'],\n",
    "    \n",
    "            'bounds': [[10e-6, 80e-6 ], # diameter\n",
    "                      [0.70  , 0.95  ], # volume fraction\n",
    "                      [10e-6 , 100e-6], # permeability\n",
    "                      [0.5e-9, 2.5e-9], # Din\n",
    "                      [0.5e-9, 2.5e-9], # Dex\n",
    "                      [300e6, 1200e6],  # b-value\n",
    "                      [0.0100, 0.750]], # Diffusion Time\n",
    "\n",
    "            'names_clean': ['Diameter', \n",
    "                            'Volume\\nFraction', \n",
    "                            'Permeability', \n",
    "                            'Intracellular\\nDiffusion', \n",
    "                            'Extracellular\\nDiffusion', \n",
    "                            'B-Value',\n",
    "                            'Diffusion\\nTime']\n",
    "            }"
   ]
  },
  {
   "cell_type": "code",
   "execution_count": 3,
   "metadata": {},
   "outputs": [
    {
     "name": "stdout",
     "output_type": "stream",
     "text": [
      "0 - 400.0 700.0\n",
      "1 - 800.0 400.0\n",
      "2 - 1000.0 50.0\n",
      "3 - 600.0 50.0\n",
      "4 - 800.0 200.0\n",
      "5 - 600.0 400.0\n",
      "6 - 1000.0 700.0\n",
      "7 - 400.0 200.0\n",
      "8 - 1000.0 400.0\n",
      "9 - 600.0 700.0\n",
      "starting 0 - 400.0 700.0\n",
      "starting 1 - 800.0 400.0\n",
      "starting 2 - 1000.0 50.0\n",
      "starting 3 - 600.0 50.0\n",
      "starting 4 - 800.0 200.0\n",
      "starting 5 - 600.0 400.0\n",
      "starting 6 - 1000.0 700.0\n",
      "starting 7 - 400.0 200.0\n",
      "starting 8 - 1000.0 400.0\n",
      "starting 9 - 600.0 700.0\n"
     ]
    }
   ],
   "source": [
    "from sample import sample\n",
    "\n",
    "meta_model = {}\n",
    "order = '7_order'\n",
    "meta_model[order]= {}\n",
    "[meta_model[order]['FA'], meta_model[order]['MD'], meta_model[order]['RD'], \n",
    " meta_model[order]['L1'], meta_model[order]['L2'], meta_model[order]['L3']] =  pickle.load( open('../pickled_metamodels_7_new_new.pkl', 'rb'), encoding='latin1')[0]\n",
    "\n",
    " \n",
    "mm_full = {your_key: meta_model[order][your_key] for your_key in ['FA','RD','L1']}\n",
    "b_range = np.array([400e6, 800e6, 1000e6, 600e6, 800e6, 600e6, 1000e6, 400e6, 1000e6, 600e6])*1e-7\n",
    "diff_range = np.array([700, 400, 50, 50, 200, 400, 700, 200, 400, 700])*1e-1\n",
    "\n",
    "# Create dictonary for each pulse profile that will be used in inversion\n",
    "mm = {}\n",
    "for pulse_param, (b,delta) in enumerate(zip(b_range,diff_range)):\n",
    "    mm[pulse_param] = {}\n",
    "    print(pulse_param,'-',b*10,delta*10)\n",
    "    for key in mm_full.keys():\n",
    "        mm[pulse_param][key] = mm_full[key](np.ma.masked,np.ma.masked,np.ma.masked,np.ma.masked,np.ma.masked,b,delta)\n",
    "        \n",
    "problem_train = {'num_vars': 5,   \n",
    "            'bounds': [[10e-6, 80e-6 ], # diameter\n",
    "                      [0.70  , 0.95  ], # volume fraction\n",
    "                      [10e-6 , 100e-6], # permeability\n",
    "                      [0.5e-9, 2.5e-9], # Din\n",
    "                      [0.5e-9, 2.5e-9]] # Dex\n",
    "                       }\n",
    "training_points = 750\n",
    "param_values = sample(problem_train, training_points)\n",
    "\n",
    "# ############################################\n",
    "inputs_unscaled = param_values\n",
    "input_scaled = inputs_unscaled*[1e6,1e2,1e6,1e10,1e10]\n",
    "inputs = input_scaled.T\n",
    "\n",
    "df_mm_train = pd.DataFrame(data = inputs.T, columns = problem['names'][:5])\n",
    "for pulse_param, (b,delta) in enumerate(zip(b_range,diff_range)):\n",
    "    print('starting',pulse_param,'-',b*10,delta*10)\n",
    "    for key in mm_full.keys():\n",
    "        df_mm_train['%s_%s_%s' % (int(b*10), int(delta*10),key)] = mm[pulse_param][key](inputs[0],inputs[1],inputs[2],inputs[3],inputs[4])\n",
    "\n",
    "            \n"
   ]
  },
  {
   "cell_type": "code",
   "execution_count": 4,
   "metadata": {
    "tags": []
   },
   "outputs": [
    {
     "name": "stderr",
     "output_type": "stream",
     "text": [
      "/tmp/ipykernel_2081679/1839461595.py:28: DeprecationWarning: get_data() is deprecated in favor of get_fdata(), which has a more predictable return type. To obtain get_data() behavior going forward, use numpy.asanyarray(img.dataobj).\n",
      "\n",
      "* deprecated from version: 3.0\n",
      "* Will raise <class 'nibabel.deprecator.ExpiredDeprecationError'> as of version: 5.0\n",
      "  data = img.get_data()\n"
     ]
    },
    {
     "name": "stdout",
     "output_type": "stream",
     "text": [
      "maskdata.shape (64, 64, 20, 26)\n",
      "maskdata.shape (64, 64, 20, 26)\n",
      "maskdata.shape (64, 64, 20, 26)\n",
      "maskdata.shape (64, 64, 20, 26)\n",
      "maskdata.shape (64, 64, 20, 26)\n",
      "maskdata.shape (64, 64, 20, 26)\n",
      "maskdata.shape (64, 64, 20, 26)\n",
      "maskdata.shape (64, 64, 20, 26)\n",
      "maskdata.shape (64, 64, 20, 26)\n",
      "maskdata.shape (64, 64, 20, 26)\n"
     ]
    }
   ],
   "source": [
    "import dipy\n",
    "import nibabel as nib\n",
    "import matplotlib.pyplot as plt\n",
    "from mpl_toolkits.axes_grid1.axes_divider import make_axes_locatable\n",
    "from dipy.io import read_bvals_bvecs\n",
    "from dipy.core.gradients import gradient_table\n",
    "import numpy as np\n",
    "import nibabel as nib\n",
    "import dipy.reconst.dti as dti\n",
    "from dipy.segment.mask import median_otsu\n",
    "from dipy.reconst.dti import fractional_anisotropy, color_fa\n",
    "\n",
    "import pandas as pd\n",
    "all_data = {}\n",
    "\n",
    "num = [70, 76,82,88,94,101,107,113,119,125]\n",
    "\n",
    "b =    [1000,600,800,400,800,600,1000,400,1000,600]\n",
    "diff = [50,50,200,200,400,400,400,700,700,700]\n",
    "\n",
    "for i, n in enumerate(num):\n",
    "    fdwi = 'MRI_data/production_ep2d_advdiff_919D_20191009201519_%s.nii' % n\n",
    "    fbval = 'MRI_data/production_ep2d_advdiff_919D_20191009201519_%s.bval' % n\n",
    "    fbvec = 'MRI_data/production_ep2d_advdiff_919D_20191009201519_%s.bvec' % n\n",
    "\n",
    "\n",
    "    img = nib.load(fdwi)\n",
    "    data = img.get_data()\n",
    "\n",
    "    bvals, bvecs = read_bvals_bvecs(fbval, fbvec)\n",
    "    gtab = gradient_table(bvals, bvecs)\n",
    "    S0s = data[:, :, :, gtab.b0s_mask]\n",
    "\n",
    "    maskdata, mask = median_otsu(data, vol_idx=[0], median_radius=3,\n",
    "                             numpass=1, autocrop=False, dilate=1)\n",
    "    print('maskdata.shape (%d, %d, %d, %d)' % maskdata.shape)\n",
    "\n",
    "    tenmodel = dti.TensorModel(gtab)\n",
    "    tenfit = tenmodel.fit(data)\n",
    "    \n",
    "    v1 = tenfit.evecs[:,:,:,:,0]\n",
    "    v2 = tenfit.evecs[:,:,:,:,1]\n",
    "    v3 = tenfit.evecs[:,:,:,:,2]\n",
    "\n",
    "    l1 = tenfit.evals[:,:,:,0]\n",
    "    l2 = tenfit.evals[:,:,:,1]\n",
    "    l3 = tenfit.evals[:,:,:,2]\n",
    "\n",
    "    FA = fractional_anisotropy(tenfit.evals)\n",
    "    FA[np.isnan(FA)] = 0\n",
    "    FA = np.clip(FA, 0, 1)\n",
    "    \n",
    "    key = '%s_%s' % (b[i], diff[i])\n",
    "    all_data[key] = {}\n",
    "    all_data[key] = {'L1' : l1*1e3,\n",
    "                  'L2' : l2*1e3,\n",
    "                  'L3' : l3*1e3,\n",
    "                  'FA' : FA,\n",
    "                  'v1' : v1,\n",
    "                  'v2' : v2,\n",
    "                  'v3' : v3}\n",
    "    \n",
    "    \n",
    "pts = all_data.keys()\n",
    "metrics = ['L1','L2','L3','FA']\n",
    "df_test = pd.DataFrame(data = [])\n",
    "\n",
    "for p in pts:\n",
    "    for m in metrics:\n",
    "        if m == 'L3':\n",
    "            df_test['%s_RD' % (p)] = all_data[p][m].flatten()\n",
    "        else:\n",
    "            df_test['%s_%s' % (p,m)] = all_data[p][m].flatten()\n",
    "        \n",
    "df_test = df_test[['400_700_FA', '400_700_RD','400_700_L1', '800_400_FA', '800_400_RD', '800_400_L1', '1000_50_FA','1000_50_RD', \n",
    "         '1000_50_L1', '600_50_FA', '600_50_RD', '600_50_L1','800_200_FA', '800_200_RD', '800_200_L1', '600_400_FA', \n",
    "         '600_400_RD','600_400_L1', '1000_700_FA', '1000_700_RD', '1000_700_L1', '400_200_FA','400_200_RD', '400_200_L1', \n",
    "         '1000_400_FA', '1000_400_RD', '1000_400_L1','600_700_FA', '600_700_RD', '600_700_L1']]"
   ]
  },
  {
   "cell_type": "code",
   "execution_count": 6,
   "metadata": {},
   "outputs": [],
   "source": [
    "from sklearn import preprocessing as pre\n",
    "\n",
    "output_scaler = pre.MinMaxScaler(feature_range=(-1, 1))\n",
    "outputs_inverse = df_mm_train.values[:,:5] \n",
    "output_train = output_scaler.fit_transform(outputs_inverse)\n",
    "\n",
    "input_scaler  = pre.StandardScaler()\n",
    "inputs_inverse  = df_mm_train.values[:,5:]\n",
    "inputs_MEASURED = df_test.values\n"
   ]
  },
  {
   "cell_type": "code",
   "execution_count": 7,
   "metadata": {},
   "outputs": [
    {
     "name": "stdout",
     "output_type": "stream",
     "text": [
      "[7.72721289e-01 2.14838941e-01 7.79373599e-03 3.86882050e-03\n",
      " 3.29278697e-04 2.57888470e-04 9.70998204e-05 3.33755889e-05\n",
      " 2.25141114e-05 1.10275713e-05 6.93805829e-06 4.47342619e-06\n",
      " 3.47742913e-06 2.44038510e-06 1.81668693e-06 1.68585638e-06\n",
      " 1.19250572e-06 9.88883035e-07 8.41857781e-07 6.29863859e-07\n",
      " 5.31373261e-07 3.30127855e-07 2.38355388e-07 1.33895501e-07\n",
      " 9.07157903e-08 8.18123658e-08 7.07240492e-08 4.52406064e-08\n",
      " 1.81094716e-08 3.63080323e-09]\n"
     ]
    }
   ],
   "source": [
    "import numpy as np\n",
    "from sklearn.decomposition import PCA\n",
    "\n",
    "input_mean = inputs_inverse.mean(axis=0)\n",
    "DNR = 30\n",
    "DNR_sigma_train = input_mean/DNR\n",
    "noiseDNR_1 = np.random.randn(inputs_inverse.shape[0],inputs_inverse.shape[1])*DNR_sigma_train\n",
    "noiseDNR_2 = np.random.randn(inputs_inverse.shape[0],inputs_inverse.shape[1])*DNR_sigma_train\n",
    "noiseDNR_3 = np.random.randn(inputs_inverse.shape[0],inputs_inverse.shape[1])*DNR_sigma_train\n",
    "\n",
    "\n",
    "inputs_all = np.concatenate((inputs_inverse, \n",
    "                             inputs_inverse+noiseDNR_1, \n",
    "                             inputs_inverse+noiseDNR_2, \n",
    "                             inputs_inverse+noiseDNR_3))\n",
    "## At this point there are two sets of data. \n",
    "# input_inverse which is noisefree and inputs_all which has noise added\n",
    "pca = PCA()\n",
    "## Perfrom PCA on noisefree data\n",
    "pca.fit(inputs_inverse)\n",
    "print(pca.explained_variance_ratio_) \n",
    "\n",
    "inputs_train_noisefree_pca = pca.transform(inputs_inverse)\n",
    "inputs_train_pca = pca.transform(inputs_all)\n",
    "\n",
    "inputs_train_scaled_noisefree_pca = input_scaler.fit_transform(inputs_train_noisefree_pca)\n",
    "inputs_train_scaled_pca = input_scaler.transform(inputs_train_pca)\n",
    "\n",
    "SNR_train = 0.02\n",
    "noiseout1 = np.random.randn(output_train.shape[0],output_train.shape[1])*SNR_train\n",
    "noiseout2 = np.random.randn(output_train.shape[0],output_train.shape[1])*SNR_train\n",
    "noiseout3 = np.random.randn(output_train.shape[0],output_train.shape[1])*SNR_train\n",
    "\n",
    "output_train_scaled_pca = np.concatenate((output_train,\n",
    "                                          output_train+noiseout1,\n",
    "                                          output_train+noiseout1,\n",
    "                                          output_train+noiseout1))"
   ]
  },
  {
   "cell_type": "code",
   "execution_count": 24,
   "metadata": {},
   "outputs": [
    {
     "name": "stdout",
     "output_type": "stream",
     "text": [
      "Read in diameter\n",
      "    initalizing parameters\n",
      "    updating parameters\n"
     ]
    },
    {
     "name": "stderr",
     "output_type": "stream",
     "text": [
      " /home/noel/.local/lib/python3.8/site-packages/paramz/parameterized.py:61: RuntimeWarning:Don't forget to initialize by self.initialize_parameter()!\n"
     ]
    },
    {
     "name": "stdout",
     "output_type": "stream",
     "text": [
      "model readin time: 462.8893382549286 sec,  7.71482230424881 min\n",
      "9607\n",
      "ROI estimation time: 39.09699821472168 sec,  0.651616636912028 min 4.06963653739166 ms/voxel\n",
      "Read in pack_frac\n",
      "    initalizing parameters\n",
      "    updating parameters\n"
     ]
    },
    {
     "name": "stderr",
     "output_type": "stream",
     "text": [
      " /home/noel/.local/lib/python3.8/site-packages/paramz/parameterized.py:61: RuntimeWarning:Don't forget to initialize by self.initialize_parameter()!\n"
     ]
    },
    {
     "name": "stdout",
     "output_type": "stream",
     "text": [
      "model readin time: 470.7725157737732 sec,  7.846208596229554 min\n",
      "9607\n",
      "ROI estimation time: 39.216259717941284 sec,  0.6536043286323547 min 4.082050558753126 ms/voxel\n",
      "Read in perm\n",
      "    initalizing parameters\n",
      "    updating parameters\n"
     ]
    },
    {
     "name": "stderr",
     "output_type": "stream",
     "text": [
      " /home/noel/.local/lib/python3.8/site-packages/paramz/parameterized.py:61: RuntimeWarning:Don't forget to initialize by self.initialize_parameter()!\n"
     ]
    },
    {
     "name": "stdout",
     "output_type": "stream",
     "text": [
      "model readin time: 474.3461272716522 sec,  7.90576878786087 min\n",
      "9607\n",
      "ROI estimation time: 39.13086915016174 sec,  0.6521811525026957 min 4.073162189045669 ms/voxel\n",
      "Read in Din\n",
      "    initalizing parameters\n",
      "    updating parameters\n"
     ]
    },
    {
     "name": "stderr",
     "output_type": "stream",
     "text": [
      " /home/noel/.local/lib/python3.8/site-packages/paramz/parameterized.py:61: RuntimeWarning:Don't forget to initialize by self.initialize_parameter()!\n"
     ]
    },
    {
     "name": "stdout",
     "output_type": "stream",
     "text": [
      "model readin time: 474.4485774040222 sec,  7.907476290067037 min\n",
      "9607\n",
      "ROI estimation time: 39.20708656311035 sec,  0.6534514427185059 min 4.081095718029598 ms/voxel\n",
      "Read in Dex\n",
      "    initalizing parameters\n",
      "    updating parameters\n"
     ]
    },
    {
     "name": "stderr",
     "output_type": "stream",
     "text": [
      " /home/noel/.local/lib/python3.8/site-packages/paramz/parameterized.py:61: RuntimeWarning:Don't forget to initialize by self.initialize_parameter()!\n"
     ]
    },
    {
     "name": "stdout",
     "output_type": "stream",
     "text": [
      "model readin time: 467.30201983451843 sec,  7.788366997241974 min\n",
      "9607\n",
      "ROI estimation time: 39.22712254524231 sec,  0.6537853757540385 min 4.083181278780296 ms/voxel\n",
      "Done reloading models\n"
     ]
    }
   ],
   "source": [
    "import GPy\n",
    "import copy\n",
    "\n",
    "names = ['diameter','pack_frac','perm','Din','Dex']\n",
    "\n",
    "dim_in = 20\n",
    "X_new = inputs_train_scaled_pca[:,:dim_in]\n",
    "Y_new = output_train_scaled_pca\n",
    "\n",
    "ker = GPy.kern.RBF(dim_in,ARD=True) + GPy.kern.Linear(dim_in) \n",
    "\n",
    "############################################################\n",
    "\n",
    "for j in range(4):\n",
    "    if j == 0:\n",
    "        r_x_min, r_x_max, r_y_min, r_y_max, z_slice = 23,25+1, 27,33+1, 6\n",
    "    elif j == 1:\n",
    "        r_x_min, r_x_max, r_y_min, r_y_max, z_slice = 36,43+1, 28,31+1, 6\n",
    "    elif j == 2:\n",
    "        r_x_min, r_x_max, r_y_min, r_y_max, z_slice = 34,39+1, 33,34+1, 6\n",
    "    elif j == 3:\n",
    "        r_x_min, r_x_max, r_y_min, r_y_max, z_slice = 21,27+1, 24,27+1, 1\n",
    "    temp = []\n",
    "    for i in range(30):\n",
    "        temp.append(np.reshape(inputs_MEASURED[:,i],(64,64,20))[r_x_min:r_x_max, \n",
    "                                                                r_y_min:r_y_max, \n",
    "                                                                z_slice].mean())\n",
    "    if j == 0:\n",
    "        rov_data = np.array(temp).reshape(-1,1).T\n",
    "    else:\n",
    "        rov_data = np.concatenate((rov_data,np.array(temp).reshape(-1,1).T),axis = 0)\n",
    "\n",
    "def scale_inputs(inputs_being_scaled, DNR, input_mean):\n",
    "    DNR_sigma = input_mean/DNR\n",
    "    noiseDNR = np.random.randn(inputs_being_scaled.shape[0],inputs_being_scaled.shape[1])*DNR_sigma\n",
    "    inputs_with_noise = inputs_being_scaled + noiseDNR\n",
    "    inputs_unscaled_pca = pca.transform(inputs_with_noise)\n",
    "    return input_scaler.transform(inputs_unscaled_pca)\n",
    "\n",
    "############################################################\n",
    "DNR = np.inf\n",
    "inputs_being_scaled = inputs_MEASURED\n",
    "inputs_test2_pca = scale_inputs(inputs_being_scaled, DNR, input_mean)\n",
    "\n",
    "test_results_single2 = {}\n",
    "test_std_single2 = {}\n",
    "\n",
    "fits = {}\n",
    "fit_std = {}\n",
    "params = ['diameter','vf','perm','Din','Dex']\n",
    "\n",
    "############################################################\n",
    "\n",
    "\n",
    "DNR = np.inf\n",
    "inputs_being_scaled = rov_data\n",
    "inputs_test2_rov_data = scale_inputs(inputs_being_scaled, DNR, input_mean)\n",
    "\n",
    "test_results_single_rov = {}\n",
    "test_std_single_rov = {}\n",
    "\n",
    "fits_rov = {}\n",
    "fit_std_rov = {}\n",
    "params = ['diameter','vf','perm','Din','Dex']\n",
    "\n",
    "    \n",
    "############################################################\n",
    "\n",
    "import gc\n",
    "\n",
    "import pickle\n",
    "with open('fits.pickle', 'rb') as handle:\n",
    "    fits = pickle.load(handle)\n",
    "with open('fit_std.pickle', 'rb') as handle:\n",
    "    fit_std = pickle.load(handle)\n",
    "with open('fits_rov.pickle', 'rb') as handle:\n",
    "    fits_rov = pickle.load(handle)\n",
    "with open('fit_std_rov.pickle', 'rb') as handle:\n",
    "    fit_std_rov = pickle.load(handle)\n",
    "\n",
    "    \n",
    "import time\n",
    "#reload all of trained models. This requires ~50-100 Gb of RAM per model. It was originally developed on a system with 1 Tb of RAM. \n",
    "for i in range(0,5):\n",
    "    m_opt = {}\n",
    "    # 2: loading a model\n",
    "    # Model creation, without initialization:\n",
    "    print('Read in %s' % names[i])\n",
    "    \n",
    "    t0 = time.time()\n",
    "    m_opt[0] = GPy.models.GPRegression(X=X_new, \n",
    "                                         Y=Y_new[:,i:i+1], \n",
    "                                         kernel = ker, \n",
    "                                         initialize=False)\n",
    "    m_opt[0].update_model(False) # do not call the underlying expensive algebra on load\n",
    "    print('    initalizing parameters')\n",
    "    m_opt[0].initialize_parameter() # Initialize the parameters (connect the parameters up)\n",
    "    m_opt[0][:] = np.load('GP_model_reduced_optimized_%s.npy' % names[i]) # Load the parameters\n",
    "    print('    updating parameters')\n",
    "    gc.collect()\n",
    "    m_opt[0].update_model(True) # Call the algebra only once\n",
    "#     display(m_opt[0])\n",
    "    t1 = time.time() - t0\n",
    "    print('model readin time:', t1, 'sec, ', t1/60, 'min')\n",
    "\n",
    "    \n",
    "    t0 = time.time()\n",
    "    test_results_single2[i], test_std_single2[i] = m_opt[0].predict(inputs_test2_pca[mask.flatten()==True])  \n",
    "    output_scaler.fit(outputs_inverse[:,i].reshape(-1, 1))\n",
    "    temp = output_scaler.inverse_transform(test_results_single2[i].reshape(-1, 1))\n",
    "    temp_std = output_scaler.inverse_transform(\n",
    "        (test_results_single2[i] + test_std_single2[i]**0.5*1.96).reshape(-1, 1)) - temp\n",
    "    t1 = time.time() - t0\n",
    "    print(len(temp))\n",
    "    print('ROI estimation time:', t1, 'sec, ', t1/60, 'min', t1/len(temp)*1000, 'ms/voxel')\n",
    "    \n",
    "    del m_opt[0]\n",
    "    del m_opt\n",
    "    gc.collect()\n",
    "    \n",
    "print('Done reloading models')"
   ]
  },
  {
   "cell_type": "code",
   "execution_count": 29,
   "metadata": {},
   "outputs": [
    {
     "name": "stdout",
     "output_type": "stream",
     "text": [
      "39.17566723823548 39.09699821472168 39.22712254524231 0.07866902351379679 0.051455307006833095 0.051919660937072926\n",
      "0.004077825256400071\n"
     ]
    }
   ],
   "source": [
    "tm = np.array([39.09699821472168, 39.216259717941284, 39.13086915016174, 39.20708656311035, 39.22712254524231])\n",
    "\n",
    "print(tm.mean(), tm.min(), tm.max(), tm.mean() - tm.min(), tm.max() - tm.mean(), tm.std())\n",
    "\n",
    "print(39.17566723823548/9607)"
   ]
  },
  {
   "cell_type": "code",
   "execution_count": 23,
   "metadata": {},
   "outputs": [
    {
     "name": "stdout",
     "output_type": "stream",
     "text": [
      "9607\n",
      "ROI estimation time: 39.263148069381714 sec,  0.6543858011563619 min 4.0869312032249105\n"
     ]
    }
   ],
   "source": [
    "print(len(temp))\n",
    "print('ROI estimation time:', t1, 'sec, ', t1/60, 'min', 1000*t1/len(temp))"
   ]
  },
  {
   "cell_type": "code",
   "execution_count": 20,
   "metadata": {
    "tags": []
   },
   "outputs": [
    {
     "ename": "NameError",
     "evalue": "name 'm_opt' is not defined",
     "output_type": "error",
     "traceback": [
      "\u001b[0;31m---------------------------------------------------------------------------\u001b[0m",
      "\u001b[0;31mNameError\u001b[0m                                 Traceback (most recent call last)",
      "\u001b[0;32m/tmp/ipykernel_2081679/1266899804.py\u001b[0m in \u001b[0;36m<module>\u001b[0;34m\u001b[0m\n\u001b[1;32m      9\u001b[0m \u001b[0mt0\u001b[0m \u001b[0;34m=\u001b[0m \u001b[0mtime\u001b[0m\u001b[0;34m.\u001b[0m\u001b[0mtime\u001b[0m\u001b[0;34m(\u001b[0m\u001b[0;34m)\u001b[0m\u001b[0;34m\u001b[0m\u001b[0;34m\u001b[0m\u001b[0m\n\u001b[1;32m     10\u001b[0m \u001b[0;34m\u001b[0m\u001b[0m\n\u001b[0;32m---> 11\u001b[0;31m \u001b[0mtest_results_single2\u001b[0m\u001b[0;34m[\u001b[0m\u001b[0mi\u001b[0m\u001b[0;34m]\u001b[0m\u001b[0;34m,\u001b[0m \u001b[0mtest_std_single2\u001b[0m\u001b[0;34m[\u001b[0m\u001b[0mi\u001b[0m\u001b[0;34m]\u001b[0m \u001b[0;34m=\u001b[0m \u001b[0mm_opt\u001b[0m\u001b[0;34m[\u001b[0m\u001b[0;36m0\u001b[0m\u001b[0;34m]\u001b[0m\u001b[0;34m.\u001b[0m\u001b[0mpredict\u001b[0m\u001b[0;34m(\u001b[0m\u001b[0minputs_test2_pca\u001b[0m\u001b[0;34m[\u001b[0m\u001b[0mmask\u001b[0m\u001b[0;34m.\u001b[0m\u001b[0mflatten\u001b[0m\u001b[0;34m(\u001b[0m\u001b[0;34m)\u001b[0m\u001b[0;34m==\u001b[0m\u001b[0;32mTrue\u001b[0m\u001b[0;34m]\u001b[0m\u001b[0;34m)\u001b[0m\u001b[0;34m\u001b[0m\u001b[0;34m\u001b[0m\u001b[0m\n\u001b[0m\u001b[1;32m     12\u001b[0m \u001b[0moutput_scaler\u001b[0m\u001b[0;34m.\u001b[0m\u001b[0mfit\u001b[0m\u001b[0;34m(\u001b[0m\u001b[0moutputs_inverse\u001b[0m\u001b[0;34m[\u001b[0m\u001b[0;34m:\u001b[0m\u001b[0;34m,\u001b[0m\u001b[0mi\u001b[0m\u001b[0;34m]\u001b[0m\u001b[0;34m.\u001b[0m\u001b[0mreshape\u001b[0m\u001b[0;34m(\u001b[0m\u001b[0;34m-\u001b[0m\u001b[0;36m1\u001b[0m\u001b[0;34m,\u001b[0m \u001b[0;36m1\u001b[0m\u001b[0;34m)\u001b[0m\u001b[0;34m)\u001b[0m\u001b[0;34m\u001b[0m\u001b[0;34m\u001b[0m\u001b[0m\n\u001b[1;32m     13\u001b[0m \u001b[0mtemp\u001b[0m \u001b[0;34m=\u001b[0m \u001b[0moutput_scaler\u001b[0m\u001b[0;34m.\u001b[0m\u001b[0minverse_transform\u001b[0m\u001b[0;34m(\u001b[0m\u001b[0mtest_results_single2\u001b[0m\u001b[0;34m[\u001b[0m\u001b[0mi\u001b[0m\u001b[0;34m]\u001b[0m\u001b[0;34m.\u001b[0m\u001b[0mreshape\u001b[0m\u001b[0;34m(\u001b[0m\u001b[0;34m-\u001b[0m\u001b[0;36m1\u001b[0m\u001b[0;34m,\u001b[0m \u001b[0;36m1\u001b[0m\u001b[0;34m)\u001b[0m\u001b[0;34m)\u001b[0m\u001b[0;34m\u001b[0m\u001b[0;34m\u001b[0m\u001b[0m\n",
      "\u001b[0;31mNameError\u001b[0m: name 'm_opt' is not defined"
     ]
    }
   ],
   "source": [
    "dt = fit_std[params[i]].flatten()\n",
    "len(dt[dt>0])\n",
    "inputs_test2_pca.shape, inputs_test2_pca[mask.flatten()==True].shape\n",
    "# fit_std[params[i]].flatten().shape, inputs_test2_pca.shape\n",
    "\n",
    "\n",
    "\n",
    "\n",
    "t0 = time.time()\n",
    "\n",
    "test_results_single2[i], test_std_single2[i] = m_opt[0].predict(inputs_test2_pca[mask.flatten()==True])  \n",
    "output_scaler.fit(outputs_inverse[:,i].reshape(-1, 1))\n",
    "temp = output_scaler.inverse_transform(test_results_single2[i].reshape(-1, 1))\n",
    "\n",
    "temp_std = output_scaler.inverse_transform(\n",
    "    (test_results_single2[i] + test_std_single2[i]**0.5*1.96).reshape(-1, 1)) - temp\n",
    "\n",
    "t1 = time.time() - t0\n",
    "print('ROI estimation time:', t1, 'sec, ', t1/60, 'min')\n",
    "    "
   ]
  },
  {
   "cell_type": "code",
   "execution_count": null,
   "metadata": {
    "collapsed": true,
    "jupyter": {
     "outputs_hidden": true
    },
    "tags": []
   },
   "outputs": [
    {
     "name": "stdout",
     "output_type": "stream",
     "text": [
      "Read in diameter\n"
     ]
    },
    {
     "name": "stderr",
     "output_type": "stream",
     "text": [
      " /home/noel/.local/lib/python3.8/site-packages/paramz/parameterized.py:61: RuntimeWarning:Don't forget to initialize by self.initialize_parameter()!\n"
     ]
    },
    {
     "name": "stdout",
     "output_type": "stream",
     "text": [
      "    initalizing parameters\n",
      "    updating parameters\n"
     ]
    },
    {
     "data": {
      "text/html": [
       "<style type=\"text/css\">\n",
       ".pd{\n",
       "    font-family: \"Courier New\", Courier, monospace !important;\n",
       "    width: 100%;\n",
       "    padding: 3px;\n",
       "}\n",
       "</style>\n",
       "\n",
       "<p class=pd>\n",
       "<b>Model</b>: GP regression<br>\n",
       "<b>Objective</b>: -22498.478241721106<br>\n",
       "<b>Number of Parameters</b>: 23<br>\n",
       "<b>Number of Optimization Parameters</b>: 23<br>\n",
       "<b>Updates</b>: True<br>\n",
       "</p>\n",
       "<style type=\"text/css\">\n",
       ".tg  {font-family:\"Courier New\", Courier, monospace !important;padding:2px 3px;word-break:normal;border-collapse:collapse;border-spacing:0;border-color:#DCDCDC;margin:0px auto;width:100%;}\n",
       ".tg td{font-family:\"Courier New\", Courier, monospace !important;font-weight:bold;color:#444;background-color:#F7FDFA;border-style:solid;border-width:1px;overflow:hidden;word-break:normal;border-color:#DCDCDC;}\n",
       ".tg th{font-family:\"Courier New\", Courier, monospace !important;font-weight:normal;color:#fff;background-color:#26ADE4;border-style:solid;border-width:1px;overflow:hidden;word-break:normal;border-color:#DCDCDC;}\n",
       ".tg .tg-left{font-family:\"Courier New\", Courier, monospace !important;font-weight:normal;text-align:left;}\n",
       ".tg .tg-center{font-family:\"Courier New\", Courier, monospace !important;font-weight:normal;text-align:center;}\n",
       ".tg .tg-right{font-family:\"Courier New\", Courier, monospace !important;font-weight:normal;text-align:right;}\n",
       "</style>\n",
       "<table class=\"tg\"><tr><th><b>  GP_regression.         </b></th><th><b>                value</b></th><th><b>constraints</b></th><th><b>priors</b></th></tr>\n",
       "<tr><td class=tg-left>  sum.rbf.variance       </td><td class=tg-right> 0.061659386060048185</td><td class=tg-center>    +ve    </td><td class=tg-center>      </td></tr>\n",
       "<tr><td class=tg-left>  sum.rbf.lengthscale    </td><td class=tg-right>                (20,)</td><td class=tg-center>    +ve    </td><td class=tg-center>      </td></tr>\n",
       "<tr><td class=tg-left>  sum.linear.variances   </td><td class=tg-right>  0.01174316135813547</td><td class=tg-center>    +ve    </td><td class=tg-center>      </td></tr>\n",
       "<tr><td class=tg-left>  Gaussian_noise.variance</td><td class=tg-right>5.040964234024839e-13</td><td class=tg-center>    +ve    </td><td class=tg-center>      </td></tr>\n",
       "</table>"
      ],
      "text/plain": [
       "<GPy.models.gp_regression.GPRegression at 0x7f33a2ce7d90>"
      ]
     },
     "metadata": {},
     "output_type": "display_data"
    },
    {
     "name": "stdout",
     "output_type": "stream",
     "text": [
      "Read in pack_frac\n"
     ]
    }
   ],
   "source": [
    "import GPy\n",
    "import copy\n",
    "\n",
    "names = ['diameter','pack_frac','perm','Din','Dex']\n",
    "\n",
    "dim_in = 20\n",
    "X_new = inputs_train_scaled_pca[:,:dim_in]\n",
    "Y_new = output_train_scaled_pca\n",
    "\n",
    "ker = GPy.kern.RBF(dim_in,ARD=True) + GPy.kern.Linear(dim_in) \n",
    "\n",
    "m_opt = {}\n",
    "#reload all of m_test\n",
    "for i in range(5):\n",
    "    # 2: loading a model\n",
    "    # Model creation, without initialization:\n",
    "    print('Read in %s' % names[i])\n",
    "    m_opt[i] = copy.deepcopy(GPy.models.GPRegression(X=X_new, Y=Y_new[:,i:i+1], kernel = ker, initialize=False))\n",
    "    m_opt[i].update_model(False) # do not call the underlying expensive algebra on load\n",
    "    print('    initalizing parameters')\n",
    "    m_opt[i].initialize_parameter() # Initialize the parameters (connect the parameters up)\n",
    "    m_opt[i][:] = np.load('GP_model_reduced_optimized_%s.npy' % names[i]) # Load the parameters\n",
    "    print('    updating parameters')\n",
    "    m_opt[i].update_model(True) # Call the algebra only once\n",
    "    display(m_opt[i])\n",
    "print('Done reloading models')\n"
   ]
  },
  {
   "cell_type": "code",
   "execution_count": 159,
   "metadata": {},
   "outputs": [
    {
     "data": {
      "image/png": "[encoded data removed]",
      "text/plain": [
       "<Figure size 2160x360 with 10 Axes>"
      ]
     },
     "metadata": {},
     "output_type": "display_data"
    }
   ],
   "source": [
    "import matplotlib.pyplot as plt\n",
    "from mpl_toolkits.axes_grid1 import make_axes_locatable\n",
    "import numpy as np\n",
    "import cmasher as cmr\n",
    "\n",
    "ms_keys = ['Diameter ($\\mu m$)', 'Volume Fraction', 'Permeability ($\\mu m/s$)', \n",
    "           'Intracellular Diff. ($\\mu m^2/s$)', 'Extracellular Diff. ($\\mu m^2/s$)']\n",
    "save_name = ['diameter','vf','perm','Din','Dex']\n",
    "# diameter_fit = np.clip(np.reshape(temp,(64,64,20)),0,100)*mask\n",
    "# data.shape\n",
    "minv = [0, 60, 0, 0, 0]\n",
    "maxv = [100, 100, 200, 3, 3]\n",
    "min_std = [0, 0, 0, 0, 0]\n",
    "max_std = [40, 30, 40, 5, 30]\n",
    "\n",
    "letter = ['a','b','c','d','e']\n",
    "fig = plt.figure(figsize=(30,5))\n",
    "for i in range(5):\n",
    "#     fig = plt.figure(figsize=(10,10))\n",
    "    \n",
    "    plt.subplot(1, 5, i+1)#.set_axis_off()\n",
    "    if i < 3:\n",
    "        im = plt.imshow(np.clip(fits[params[i]][:,:,10].T,minv[i],maxv[i])[15:43,15:50], cmap = plt.get_cmap('cmr.torch'))\n",
    "    else:\n",
    "        im = plt.imshow(np.clip(fits[params[i]][:,:,10].T*0.1,minv[i],maxv[i])[15:43,15:50], cmap = plt.get_cmap('cmr.torch'))\n",
    "        \n",
    "#     plt.title('Estimate of %s' % ms_keys[i], fontsize = 12)\n",
    "    plt.xlabel('(%s)' % letter[i], fontsize = 14)\n",
    "    plt.axis('off')\n",
    "#     plt.tick_params(axis='both', which='both', bottom='off', top='off', \n",
    "#                     labelbottom='off', right='off', left='off', labelleft='off')\n",
    "    ax = plt.gca()\n",
    "    # create an axes on the right side of ax. The width of cax will be 5%\n",
    "    # of ax and the padding between cax and ax will be fixed at 0.05 inch.\n",
    "    divider = make_axes_locatable(ax)\n",
    "    cax = divider.append_axes(\"right\", size=\"5%\", pad=0.05)\n",
    "    cbar = plt.colorbar(im, cax=cax, label = ms_keys[i])\n",
    "    cbar.ax.tick_params(labelsize=12) \n",
    "    cbar.set_label(ms_keys[i], labelpad=10)\n",
    "    cbar.ax.yaxis.label.set_size(13)\n",
    "    \n",
    "plt.tight_layout()\n",
    "# fig.subplots_adjust(wspace=0.1)\n",
    "import matplotlib\n",
    "matplotlib.rcParams['pdf.fonttype'] = 42\n",
    "matplotlib.rcParams['ps.fonttype'] = 42\n",
    "plt.show()\n"
   ]
  },
  {
   "cell_type": "code",
   "execution_count": 161,
   "metadata": {},
   "outputs": [
    {
     "data": {
      "image/png": "[encoded data removed]",
      "text/plain": [
       "<Figure size 1296x216 with 5 Axes>"
      ]
     },
     "metadata": {},
     "output_type": "display_data"
    },
    {
     "data": {
      "image/png": "[encoded data removed]",
      "text/plain": [
       "<Figure size 1296x216 with 5 Axes>"
      ]
     },
     "metadata": {},
     "output_type": "display_data"
    }
   ],
   "source": [
    "# diameter_fit = np.clip(np.reshape(temp,(64,64,20)),0,100)*mask\n",
    "# data.shape\n",
    "\n",
    "import seaborn as sns\n",
    "\n",
    "minv = [0, 50, 0, 0, 0]\n",
    "maxv = [100, 100, 200, 30, 30]\n",
    "min_std = [0, 0, 0, 0, 0]\n",
    "max_std = [20, 20, 30, 3, 15]\n",
    "min_std_lim = [16.4, 12.9, 27.4, 0.248, 0.98]\n",
    "max_std_lim = [18.1, 14.6, 29.1, 0.262, 1.22]\n",
    "\n",
    "lett = ['a','b','c','d','e']\n",
    "ms_keys = ['Diameter ($\\mu m$)', 'Volume Fraction', 'Permeability ($\\mu m/s$)', \n",
    "           'Intracellular Diff. ($\\mu m^2/s$)', 'Extracellular Diff. ($\\mu m^2/s$)']\n",
    "fig = plt.figure(figsize=(18,3))\n",
    "\n",
    "color = sns.color_palette(n_colors=5)\n",
    "sns.set(style=\"ticks\")\n",
    "\n",
    "for i in range(5):\n",
    "#     fig = plt.figure(figsize=(5,2))\n",
    "\n",
    "    plt.subplot(1,5, i+1)\n",
    "    temp = np.clip(fits[params[i]].flatten(),minv[i],maxv[i])\n",
    "    temp[temp == minv[i]] = np.nan\n",
    "    temp[temp == maxv[i]] = np.nan\n",
    "    temp =  temp[np.logical_not(np.isnan(temp))]\n",
    "#     temp = (fits[params[i]]*mask).flatten()\n",
    "#     temp[temp == 0] = np.nan\n",
    "    weights = np.ones_like(temp)/float(len(temp))\n",
    "\n",
    "#     plt.hist(temp, bins = 100, range = (minv[i],maxv[i]))\n",
    "    \n",
    "    sns.histplot(data=temp,  element=\"bars\",  stat=\"count\", bins=50,  color = color[i], alpha=0.6)\n",
    "\n",
    "    plt.xlabel('%s' % (ms_keys[i]))\n",
    "    if i > 2:\n",
    "        plt.xticks([0.0, 10.0, 20.0, 30.0], [0.0,1.0,2.0,3.0])\n",
    "    fig.subplots_adjust(wspace=0.3)\n",
    "    fig.subplots_adjust(hspace=0.4)\n",
    "\n",
    "plt.tight_layout()\n",
    "import matplotlib\n",
    "matplotlib.rcParams['pdf.fonttype'] = 42\n",
    "matplotlib.rcParams['ps.fonttype'] = 42\n",
    "sns.despine()\n",
    "plt.savefig('/home/noel/paramter_hist.pdf' , format='pdf', bbox_inches='tight')\n",
    "plt.show()\n",
    "# plt.savefig('estimate.png' % num, dpi = 600, format = 'png', bbox_inches='tight')\n",
    "\n",
    "lett = ['f','g','h','i','j']\n",
    "fig = plt.figure(figsize=(18,3))\n",
    "for i in range(5):\n",
    "#     fig = plt.figure(figsize=(5,2))\n",
    "\n",
    "    plt.subplot(1,5, i+1)\n",
    "    temp0 = np.clip(fit_std[params[i]].flatten(),min_std[i],max_std[i])\n",
    "    temp0[temp0 == 0] = np.nan\n",
    "    temp0[temp0 == max_std[i]] = np.nan\n",
    "    temp0 =  temp0[np.logical_not(np.isnan(temp0))]\n",
    "#     plt.hist(temp0,bins = 50)\n",
    "    sns.histplot(data=temp0,  element=\"bars\",  stat=\"count\", common_norm=False, bins=50,  color = color[i], alpha=0.6)\n",
    "\n",
    "    plt.xlim([min_std_lim[i],max_std_lim[i]])\n",
    "\n",
    "    if i == 3:\n",
    "        plt.xticks([2.4, 2.5, 2.6], [0.24, 0.25, 0.26])\n",
    "        plt.xlim([2.38,2.62])\n",
    "    if i == 4:\n",
    "        plt.xticks([10,10.5,11],[1.0,1.05,1.1])\n",
    "        plt.xlim([9.8,11.2])\n",
    "    plt.xlabel('%s' % (ms_keys[i]))\n",
    "    fig.subplots_adjust(wspace=0.3)\n",
    "    fig.subplots_adjust(hspace=0.6)\n",
    "\n",
    "plt.tight_layout()\n",
    "import matplotlib\n",
    "matplotlib.rcParams['pdf.fonttype'] = 42\n",
    "matplotlib.rcParams['ps.fonttype'] = 42\n",
    "sns.despine()\n",
    "plt.savefig('/home/noel/paramter_std.pdf' , format='pdf', bbox_inches='tight')\n",
    "#     plt.ylim([0,10000])\n",
    "plt.show()\n",
    "# plt.savefig('CI_interval.png' % num, dpi = 600, format = 'png', bbox_inches='tight')\n",
    "\n",
    "\n"
   ]
  }
 ],
 "metadata": {
  "kernelspec": {
   "display_name": "Python 3 (ipykernel)",
   "language": "python",
   "name": "python3"
  },
  "language_info": {
   "codemirror_mode": {
    "name": "ipython",
    "version": 3
   },
   "file_extension": ".py",
   "mimetype": "text/x-python",
   "name": "python",
   "nbconvert_exporter": "python",
   "pygments_lexer": "ipython3",
   "version": "3.8.18"
  }
 },
 "nbformat": 4,
 "nbformat_minor": 4
}
